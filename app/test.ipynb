{
 "cells": [
  {
   "cell_type": "code",
   "execution_count": 10,
   "metadata": {},
   "outputs": [],
   "source": [
    "import pandas as pd\n",
    "from joblib import load\n"
   ]
  },
  {
   "cell_type": "code",
   "execution_count": 20,
   "metadata": {},
   "outputs": [],
   "source": [
    "def team_last_info(team):\n",
    "    list_home_features = [\"date\", \"home_team\", \"neutral\", \"rank_home\", \"total_points_home\", \"confederation_home\", \"winner\", \"home_goals_avg\", \"home_win_avg\", \"home_last_wins\"]\n",
    "    list_away_features = [\"date\", \"away_team\", \"neutral\", \"rank_away\", \"total_points_away\", \"confederation_away\", \"winner\", \"away_goals_avg\", \"away_win_avg\", \"away_last_wins\"]\n",
    "    \n",
    "    df = load(\"../assets/rera.joblib\")\n",
    "    \n",
    "    filtered_df = df[(df['home_team'] == team) | (df['away_team'] == team)]\n",
    "    last_row_with_team = filtered_df.iloc[-1]\n",
    "    \n",
    "    # Determine if the team is a home team or an away team\n",
    "    if last_row_with_team['home_team'] == team:\n",
    "        columns_to_drop = list_home_features\n",
    "    else:\n",
    "        columns_to_drop = list_away_features\n",
    "    \n",
    "    last_row_without_columns = last_row_with_team.drop(columns=columns_to_drop)\n",
    "    return last_row_without_columns\n"
   ]
  },
  {
   "cell_type": "code",
   "execution_count": 21,
   "metadata": {},
   "outputs": [
    {
     "name": "stdout",
     "output_type": "stream",
     "text": [
      "date                  2015-06-07 00:00:00\n",
      "home_team                          France\n",
      "away_team                         Belgium\n",
      "neutral                             False\n",
      "rank_home                             9.0\n",
      "total_points_home                  1164.0\n",
      "confederation_home                   UEFA\n",
      "rank_away                             2.0\n",
      "total_points_away                  1509.0\n",
      "confederation_away                   UEFA\n",
      "winner                                  1\n",
      "home_goals_avg                   1.571429\n",
      "away_goals_avg                   2.714286\n",
      "home_win_avg                     0.857143\n",
      "away_win_avg                     0.857143\n",
      "home_last_wins                          1\n",
      "away_last_wins                          1\n",
      "Name: 12892, dtype: object\n"
     ]
    },
    {
     "data": {
      "text/plain": [
       "date                  2015-06-07 00:00:00\n",
       "home_team                          France\n",
       "away_team                         Belgium\n",
       "neutral                             False\n",
       "rank_home                             9.0\n",
       "total_points_home                  1164.0\n",
       "confederation_home                   UEFA\n",
       "rank_away                             2.0\n",
       "total_points_away                  1509.0\n",
       "confederation_away                   UEFA\n",
       "winner                                  1\n",
       "home_goals_avg                   1.571429\n",
       "away_goals_avg                   2.714286\n",
       "home_win_avg                     0.857143\n",
       "away_win_avg                     0.857143\n",
       "home_last_wins                          1\n",
       "away_last_wins                          1\n",
       "Name: 12892, dtype: object"
      ]
     },
     "execution_count": 21,
     "metadata": {},
     "output_type": "execute_result"
    }
   ],
   "source": [
    "team_last_info(\"France\")"
   ]
  },
  {
   "cell_type": "code",
   "execution_count": null,
   "metadata": {},
   "outputs": [],
   "source": [
    "def predict_match(team1, team2):\n",
    "    model = load(\"../assets/rf_clf_default_86_acc.joblib\")\n",
    "    team1 = team_last_info(team1)\n",
    "    team2 = team_last_info(team2)"
   ]
  }
 ],
 "metadata": {
  "kernelspec": {
   "display_name": "Football_match_results_predictor-zTTMyA_E",
   "language": "python",
   "name": "python3"
  },
  "language_info": {
   "codemirror_mode": {
    "name": "ipython",
    "version": 3
   },
   "file_extension": ".py",
   "mimetype": "text/x-python",
   "name": "python",
   "nbconvert_exporter": "python",
   "pygments_lexer": "ipython3",
   "version": "3.10.0"
  }
 },
 "nbformat": 4,
 "nbformat_minor": 2
}
