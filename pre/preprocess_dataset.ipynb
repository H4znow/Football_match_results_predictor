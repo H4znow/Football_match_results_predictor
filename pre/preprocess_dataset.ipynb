{
 "cells": [
  {
   "cell_type": "markdown",
   "metadata": {},
   "source": [
    "# Part 1 of NNL's Neutworks "
   ]
  },
  {
   "cell_type": "code",
   "execution_count": 50,
   "metadata": {
    "ExecuteTime": {
     "end_time": "2023-11-20T13:25:33.621757Z",
     "start_time": "2023-11-20T13:25:33.413976Z"
    }
   },
   "outputs": [],
   "source": [
    "# import library\n",
    "import pandas            as pd\n",
    "import numpy             as np\n",
    "import seaborn           as sns\n",
    "import matplotlib.pyplot as plt\n",
    "import sklearn"
   ]
  },
  {
   "cell_type": "markdown",
   "metadata": {},
   "source": [
    "## Import datasets "
   ]
  },
  {
   "cell_type": "code",
   "execution_count": 51,
   "metadata": {
    "ExecuteTime": {
     "end_time": "2023-11-20T13:25:33.812611Z",
     "start_time": "2023-11-20T13:25:33.421284Z"
    }
   },
   "outputs": [],
   "source": [
    "results = pd.read_csv(\"../data/results.csv\")\n",
    "ranking = pd.read_csv(\"../data/fifa_ranking-2023-07-20.csv\")"
   ]
  },
  {
   "cell_type": "markdown",
   "metadata": {},
   "source": [
    "#### Display datasets "
   ]
  },
  {
   "cell_type": "code",
   "execution_count": 52,
   "metadata": {
    "ExecuteTime": {
     "end_time": "2023-11-20T13:25:33.820916Z",
     "start_time": "2023-11-20T13:25:33.503339Z"
    }
   },
   "outputs": [
    {
     "data": {
      "text/html": [
       "<div>\n",
       "<style scoped>\n",
       "    .dataframe tbody tr th:only-of-type {\n",
       "        vertical-align: middle;\n",
       "    }\n",
       "\n",
       "    .dataframe tbody tr th {\n",
       "        vertical-align: top;\n",
       "    }\n",
       "\n",
       "    .dataframe thead th {\n",
       "        text-align: right;\n",
       "    }\n",
       "</style>\n",
       "<table border=\"1\" class=\"dataframe\">\n",
       "  <thead>\n",
       "    <tr style=\"text-align: right;\">\n",
       "      <th></th>\n",
       "      <th>date</th>\n",
       "      <th>home_team</th>\n",
       "      <th>away_team</th>\n",
       "      <th>home_score</th>\n",
       "      <th>away_score</th>\n",
       "      <th>tournament</th>\n",
       "      <th>city</th>\n",
       "      <th>country</th>\n",
       "      <th>neutral</th>\n",
       "    </tr>\n",
       "  </thead>\n",
       "  <tbody>\n",
       "    <tr>\n",
       "      <th>0</th>\n",
       "      <td>1872-11-30</td>\n",
       "      <td>Scotland</td>\n",
       "      <td>England</td>\n",
       "      <td>0</td>\n",
       "      <td>0</td>\n",
       "      <td>Friendly</td>\n",
       "      <td>Glasgow</td>\n",
       "      <td>Scotland</td>\n",
       "      <td>False</td>\n",
       "    </tr>\n",
       "    <tr>\n",
       "      <th>1</th>\n",
       "      <td>1873-03-08</td>\n",
       "      <td>England</td>\n",
       "      <td>Scotland</td>\n",
       "      <td>4</td>\n",
       "      <td>2</td>\n",
       "      <td>Friendly</td>\n",
       "      <td>London</td>\n",
       "      <td>England</td>\n",
       "      <td>False</td>\n",
       "    </tr>\n",
       "    <tr>\n",
       "      <th>2</th>\n",
       "      <td>1874-03-07</td>\n",
       "      <td>Scotland</td>\n",
       "      <td>England</td>\n",
       "      <td>2</td>\n",
       "      <td>1</td>\n",
       "      <td>Friendly</td>\n",
       "      <td>Glasgow</td>\n",
       "      <td>Scotland</td>\n",
       "      <td>False</td>\n",
       "    </tr>\n",
       "    <tr>\n",
       "      <th>3</th>\n",
       "      <td>1875-03-06</td>\n",
       "      <td>England</td>\n",
       "      <td>Scotland</td>\n",
       "      <td>2</td>\n",
       "      <td>2</td>\n",
       "      <td>Friendly</td>\n",
       "      <td>London</td>\n",
       "      <td>England</td>\n",
       "      <td>False</td>\n",
       "    </tr>\n",
       "    <tr>\n",
       "      <th>4</th>\n",
       "      <td>1876-03-04</td>\n",
       "      <td>Scotland</td>\n",
       "      <td>England</td>\n",
       "      <td>3</td>\n",
       "      <td>0</td>\n",
       "      <td>Friendly</td>\n",
       "      <td>Glasgow</td>\n",
       "      <td>Scotland</td>\n",
       "      <td>False</td>\n",
       "    </tr>\n",
       "  </tbody>\n",
       "</table>\n",
       "</div>"
      ],
      "text/plain": [
       "         date home_team away_team  home_score  away_score tournament     city  \\\n",
       "0  1872-11-30  Scotland   England           0           0   Friendly  Glasgow   \n",
       "1  1873-03-08   England  Scotland           4           2   Friendly   London   \n",
       "2  1874-03-07  Scotland   England           2           1   Friendly  Glasgow   \n",
       "3  1875-03-06   England  Scotland           2           2   Friendly   London   \n",
       "4  1876-03-04  Scotland   England           3           0   Friendly  Glasgow   \n",
       "\n",
       "    country  neutral  \n",
       "0  Scotland    False  \n",
       "1   England    False  \n",
       "2  Scotland    False  \n",
       "3   England    False  \n",
       "4  Scotland    False  "
      ]
     },
     "execution_count": 52,
     "metadata": {},
     "output_type": "execute_result"
    }
   ],
   "source": [
    "results.head(5)"
   ]
  },
  {
   "cell_type": "code",
   "execution_count": 53,
   "metadata": {
    "ExecuteTime": {
     "end_time": "2023-11-20T13:25:33.831832Z",
     "start_time": "2023-11-20T13:25:33.511952Z"
    }
   },
   "outputs": [
    {
     "name": "stdout",
     "output_type": "stream",
     "text": [
      "<class 'pandas.core.frame.DataFrame'>\n",
      "RangeIndex: 45100 entries, 0 to 45099\n",
      "Data columns (total 9 columns):\n",
      " #   Column      Non-Null Count  Dtype \n",
      "---  ------      --------------  ----- \n",
      " 0   date        45100 non-null  object\n",
      " 1   home_team   45100 non-null  object\n",
      " 2   away_team   45100 non-null  object\n",
      " 3   home_score  45100 non-null  int64 \n",
      " 4   away_score  45100 non-null  int64 \n",
      " 5   tournament  45100 non-null  object\n",
      " 6   city        45100 non-null  object\n",
      " 7   country     45100 non-null  object\n",
      " 8   neutral     45100 non-null  bool  \n",
      "dtypes: bool(1), int64(2), object(6)\n",
      "memory usage: 2.8+ MB\n"
     ]
    }
   ],
   "source": [
    "results.info()"
   ]
  },
  {
   "cell_type": "code",
   "execution_count": 54,
   "metadata": {
    "ExecuteTime": {
     "end_time": "2023-11-20T13:25:33.835661Z",
     "start_time": "2023-11-20T13:25:33.520584Z"
    }
   },
   "outputs": [
    {
     "data": {
      "text/html": [
       "<div>\n",
       "<style scoped>\n",
       "    .dataframe tbody tr th:only-of-type {\n",
       "        vertical-align: middle;\n",
       "    }\n",
       "\n",
       "    .dataframe tbody tr th {\n",
       "        vertical-align: top;\n",
       "    }\n",
       "\n",
       "    .dataframe thead th {\n",
       "        text-align: right;\n",
       "    }\n",
       "</style>\n",
       "<table border=\"1\" class=\"dataframe\">\n",
       "  <thead>\n",
       "    <tr style=\"text-align: right;\">\n",
       "      <th></th>\n",
       "      <th>rank</th>\n",
       "      <th>country_full</th>\n",
       "      <th>country_abrv</th>\n",
       "      <th>total_points</th>\n",
       "      <th>previous_points</th>\n",
       "      <th>rank_change</th>\n",
       "      <th>confederation</th>\n",
       "      <th>rank_date</th>\n",
       "    </tr>\n",
       "  </thead>\n",
       "  <tbody>\n",
       "    <tr>\n",
       "      <th>0</th>\n",
       "      <td>1</td>\n",
       "      <td>Germany</td>\n",
       "      <td>GER</td>\n",
       "      <td>57.0</td>\n",
       "      <td>0.0</td>\n",
       "      <td>0</td>\n",
       "      <td>UEFA</td>\n",
       "      <td>1992-12-31</td>\n",
       "    </tr>\n",
       "    <tr>\n",
       "      <th>1</th>\n",
       "      <td>96</td>\n",
       "      <td>Syria</td>\n",
       "      <td>SYR</td>\n",
       "      <td>11.0</td>\n",
       "      <td>0.0</td>\n",
       "      <td>0</td>\n",
       "      <td>AFC</td>\n",
       "      <td>1992-12-31</td>\n",
       "    </tr>\n",
       "    <tr>\n",
       "      <th>2</th>\n",
       "      <td>97</td>\n",
       "      <td>Burkina Faso</td>\n",
       "      <td>BFA</td>\n",
       "      <td>11.0</td>\n",
       "      <td>0.0</td>\n",
       "      <td>0</td>\n",
       "      <td>CAF</td>\n",
       "      <td>1992-12-31</td>\n",
       "    </tr>\n",
       "    <tr>\n",
       "      <th>3</th>\n",
       "      <td>99</td>\n",
       "      <td>Latvia</td>\n",
       "      <td>LVA</td>\n",
       "      <td>10.0</td>\n",
       "      <td>0.0</td>\n",
       "      <td>0</td>\n",
       "      <td>UEFA</td>\n",
       "      <td>1992-12-31</td>\n",
       "    </tr>\n",
       "    <tr>\n",
       "      <th>4</th>\n",
       "      <td>100</td>\n",
       "      <td>Burundi</td>\n",
       "      <td>BDI</td>\n",
       "      <td>10.0</td>\n",
       "      <td>0.0</td>\n",
       "      <td>0</td>\n",
       "      <td>CAF</td>\n",
       "      <td>1992-12-31</td>\n",
       "    </tr>\n",
       "  </tbody>\n",
       "</table>\n",
       "</div>"
      ],
      "text/plain": [
       "   rank  country_full country_abrv  total_points  previous_points  \\\n",
       "0     1       Germany          GER          57.0              0.0   \n",
       "1    96         Syria          SYR          11.0              0.0   \n",
       "2    97  Burkina Faso          BFA          11.0              0.0   \n",
       "3    99        Latvia          LVA          10.0              0.0   \n",
       "4   100       Burundi          BDI          10.0              0.0   \n",
       "\n",
       "   rank_change confederation   rank_date  \n",
       "0            0          UEFA  1992-12-31  \n",
       "1            0           AFC  1992-12-31  \n",
       "2            0           CAF  1992-12-31  \n",
       "3            0          UEFA  1992-12-31  \n",
       "4            0           CAF  1992-12-31  "
      ]
     },
     "execution_count": 54,
     "metadata": {},
     "output_type": "execute_result"
    }
   ],
   "source": [
    "ranking.head(5)"
   ]
  },
  {
   "cell_type": "code",
   "execution_count": 55,
   "metadata": {
    "ExecuteTime": {
     "end_time": "2023-11-20T13:25:33.846835Z",
     "start_time": "2023-11-20T13:25:33.523328Z"
    }
   },
   "outputs": [
    {
     "name": "stdout",
     "output_type": "stream",
     "text": [
      "<class 'pandas.core.frame.DataFrame'>\n",
      "RangeIndex: 64757 entries, 0 to 64756\n",
      "Data columns (total 8 columns):\n",
      " #   Column           Non-Null Count  Dtype  \n",
      "---  ------           --------------  -----  \n",
      " 0   rank             64757 non-null  int64  \n",
      " 1   country_full     64757 non-null  object \n",
      " 2   country_abrv     64757 non-null  object \n",
      " 3   total_points     64757 non-null  float64\n",
      " 4   previous_points  64757 non-null  float64\n",
      " 5   rank_change      64757 non-null  int64  \n",
      " 6   confederation    64757 non-null  object \n",
      " 7   rank_date        64757 non-null  object \n",
      "dtypes: float64(2), int64(2), object(4)\n",
      "memory usage: 4.0+ MB\n"
     ]
    }
   ],
   "source": [
    "ranking.info()"
   ]
  },
  {
   "cell_type": "markdown",
   "metadata": {},
   "source": [
    "## Preprocess"
   ]
  },
  {
   "cell_type": "markdown",
   "metadata": {},
   "source": [
    "First and foremost, given the fact that some country names have evolved over time, while others no longer exists, it's crucial to alter the data by replacing these instances with accurately updated country names.\n",
    "\n",
    "We have opted to use OpenAI's GPT-4, with a finely-tuned prompt, to evaluate the \" false countries \" in the dataset and suggest appropriate replacements. After a series of trials and errors, the following prompt has been perfected to yield optimal results :\n",
    "\n",
    "```python\n",
    "prompt = f\"\"\"\n",
    "You will be presented with a list of countries. These could either still exist, have ceased to exist, or be listed in a different language. We refer to these as the \"false countries.\" \\\n",
    "Your task is to generate a JSON where the keys represent these \"false countries,\" and the corresponding values indicate the current, correct English name.\n",
    "\"\"\"\n",
    "```\n",
    "The goal of this approach is to maintain a dataset consisting solely of accurate English country names."
   ]
  },
  {
   "cell_type": "markdown",
   "metadata": {},
   "source": [
    "#### 1. Replace old countries name by the most precise name"
   ]
  },
  {
   "cell_type": "markdown",
   "metadata": {},
   "source": [
    "##### 1.1. Replacing country names in `result` dataset"
   ]
  },
  {
   "cell_type": "code",
   "execution_count": 56,
   "metadata": {
    "ExecuteTime": {
     "end_time": "2023-11-20T13:25:33.849857Z",
     "start_time": "2023-11-20T13:25:33.531952Z"
    }
   },
   "outputs": [],
   "source": [
    "# the JSON file converted to a dictionary returned by CHATGPT-4\n",
    "\n",
    "false_countries = {\n",
    "\"Czechoslovakia\": \"Czech Republic\", \"Catalonia\": \"Spain\",\"Basque Country\": \"Spain\",\"Brittany\": \"France\",\"Yugoslavia\": \"Serbia\",\"Galicia\": \"Spain\",\"Andalusia\": \"Spain\",\"Central Spain\": \"Spain\",\"Silesia\": \"Poland\",\"Manchukuo\": \"China\",\"German DR\": \"Germany\",\"Kernow\": \"United Kingdom\",\"Saarland\": \"Germany\", \"Vietnam Republic\": \"Vietnam\",\"North Vietnam\": \"Vietnam\",\"Zanzibar\": \"Tanzania\",\"Eswatini\": \"Swaziland\",\"Western Australia\": \"Australia\",\"Northern Cyprus\": \"Cyprus\",\"Yemen DPR\": \"Yemen\",\"Ynys Môn\": \"United Kingdom\",\"Shetland\": \"United Kingdom\",\"Isle of Wight\": \"United Kingdom\",\"Canary Islands\": \"Spain\",\n",
    "\"Frøya\": \"Norway\",\"Hitra\": \"Norway\",\"Corsica\": \"France\",\"Saare County\": \"Estonia\",\"Rhodes\": \"Greece\",\"Orkney\": \"United Kingdom\",\"Sark\": \"United Kingdom\",\"Alderney\": \"United Kingdom\",\"Western Isles\": \"United Kingdom\",\"Falkland Islands\": \"United Kingdom\",\"Republic of St. Pauli\": \"Germany\",\"Găgăuzia\": \"Moldova\", \"Tibet\": \"China\",\"Occitania\": \"France\",\"Sápmi\": \"Norway\",\"Menorca\": \"Spain\",\"Provence\": \"France\",\"Arameans Suryoye\": \"Syria\",\"Padania\": \"Italy\",\"Iraqi Kurdistan\": \"Iraq\",\"Gozo\": \"Malta\",\"Bonaire\": \"Netherlands\",\"Western Sahara\": \"Morocco\",\"Raetia\": \"Switzerland\",\"Darfur\": \"Sudan\",\"Tamil Eelam\": \"Sri Lanka\", \"Abkhazia\": \"Georgia\",\"Madrid\": \"Spain\",\"Ellan Vannin\": \"Isle of Man\",\"South Ossetia\": \"Georgia\",\"County of Nice\": \"France\",\"Székely Land\": \"Romania\",\"Romani people\": \"India\",\"Felvidék\": \"Slovakia\",\"Chagos Islands\": \"United Kingdom\",\"United Koreans in Japan\": \"North Korea\",\"Somaliland\": \"Somalia\",\n",
    "\"Western Armenia\": \"Turkey\",\"Barawa\": \"Somalia\",\"Kárpátalja\": \"Ukraine\",\"Yorkshire\": \"United Kingdom\",\"Matabeleland\": \"Zimbabwe\",\"Cascadia\": \"United States\",\"Kabylia\": \"Algeria\",\"Parishes of Jersey\": \"Jersey\",\"Chameria\": \"Albania\",\"Yoruba Nation\": \"Nigeria\",\"Biafra\": \"Nigeria\",\"Mapuche\": \"Chile\", \"Aymara\": \"Bolivia\",\"Ticino\": \"Switzerland\",\"Hmong\": \"China\"\n",
    "}"
   ]
  },
  {
   "cell_type": "code",
   "execution_count": 57,
   "metadata": {
    "ExecuteTime": {
     "end_time": "2023-11-20T13:25:33.912836Z",
     "start_time": "2023-11-20T13:25:33.541511Z"
    }
   },
   "outputs": [
    {
     "name": "stdout",
     "output_type": "stream",
     "text": [
      "Number of countries before the replacement : 317\n",
      "Number of countries after the replacement : 244\n"
     ]
    }
   ],
   "source": [
    "# Calculate and display the number of unique countries before and after the replacement\n",
    "\n",
    "num_unique_countries = len(set(results[\"home_team\"].unique()) | set(results[\"away_team\"].unique()))\n",
    "print(f\"Number of countries before the replacement : {num_unique_countries}\")\n",
    "\n",
    "results.replace(false_countries, inplace=True)\n",
    "\n",
    "num_unique_countries = len(set(results[\"home_team\"].unique()) | set(results[\"away_team\"].unique()))\n",
    "print(f\"Number of countries after the replacement : {num_unique_countries}\")"
   ]
  },
  {
   "cell_type": "markdown",
   "metadata": {},
   "source": [
    "##### 1.2. Replacing country names in `ranking` dataset"
   ]
  },
  {
   "cell_type": "markdown",
   "metadata": {},
   "source": [
    "We modified the prompt to adapt it to this dataset.\n",
    "\n",
    "\n",
    "```python\n",
    "prompt = f\"\"\"\n",
    "Instructions:\n",
    "\n",
    "You are a prompt engineer specializing in modern geography and country names, as well as football (soccer). Your task is to process a list of countries provided in various languages. Some of these countries may have specific conditions or requirements that need to be addressed. Here are the instructions to be followed:\n",
    "\n",
    "1. You will receive a list of countries in different languages.\n",
    "2. Some of these countries may no longer exist, have different names, appear multiple times in different formats, be in a non-simplified form (e.g., IR Iran instead of Iran), or not have a national football team.\n",
    "3. These countries will be referred to as \"false countries.\"\n",
    "4. Your output should be in JSON format, where each key represents a \"false country,\" and its corresponding value indicates the correct actual name in English.\n",
    "5. If a \"false country\" doesn't have a national football team, its value in the JSON should be \"None.\"\n",
    "\n",
    "Please ensure that your response strictly adheres to the provided instructions and only includes the requested JSON output.\n",
    "\"\"\"\n",
    "```"
   ]
  },
  {
   "cell_type": "code",
   "execution_count": 58,
   "metadata": {
    "ExecuteTime": {
     "end_time": "2023-11-20T13:25:33.914374Z",
     "start_time": "2023-11-20T13:25:33.833067Z"
    }
   },
   "outputs": [],
   "source": [
    "# JSON converted to dictionary that CHATGPT-4 returned with the previous prompt.\n",
    "false_countries = {\n",
    "\"Korea DPR\": \"North Korea\", \"Cape Verde Islands\": \"Cape Verde\",\"Brunei Darussalam\": \"Brunei\",\"USA\": \"United States\",\"Côte d'Ivoire\": \"Ivory Coast\",\"Yugoslavia\": \"Serbia\",\"Czechoslovakia\": \"Czech Republic\",\"Zaire\": \"Democratic Republic of the Congo\",\"IR Iran\": \"Iran\",\"China PR\": \"China\", \"Trinidad and Tobago\": \"Trinidad\",\"Korea Republic\": \"South Korea\",\"FYR Macedonia\": \"North Macedonia\",\"Kyrgyz Republic\": \"Kyrgyzstan\",\"Chinese Taipei\": \"Taiwan\",\"Serbia and Montenegro\": \"Serbia\",\"Swaziland\": \"Eswatini\",\"St. Vincent / Grenadines\": \"St. Vincent and the Grenadines\", \"Timor-Leste\": \"East Timor\",\"North Macedonia\": \"Macedonia\",\"São Tomé e Príncipe\": \"Sao Tome and Principe\",\"Curaçao\": \"Curacao\",\"Cabo Verde\": \"Cape Verde\",\"Czechia\": \"Czech Republic\",\"Türkiye\": \"Turkey\",\"St Vincent and the Grenadines\": \"St. Vincent and the Grenadines\", \"St Lucia\": \"St. Lucia\",\"The Gambia\": \"Gambia\",\"St Kitts and Nevis\": \"St. Kitts and Nevis\",\"Hong Kong, China\": \"Hong Kong\",\"Aotearoa New Zealand\": \"New Zealand\"\n",
    "}"
   ]
  },
  {
   "cell_type": "code",
   "execution_count": 59,
   "metadata": {
    "ExecuteTime": {
     "end_time": "2023-11-20T13:25:34.009537Z",
     "start_time": "2023-11-20T13:25:33.837896Z"
    }
   },
   "outputs": [
    {
     "name": "stdout",
     "output_type": "stream",
     "text": [
      "Number of countries before the replacement : 231\n",
      "Number of countries after the replacement : 216\n"
     ]
    }
   ],
   "source": [
    "# Calculate and display the number of unique countries before and after the replacement\n",
    "\n",
    "num_unique_countries = len(ranking[\"country_full\"].unique())\n",
    "print(f\"Number of countries before the replacement : {num_unique_countries}\")\n",
    "\n",
    "ranking.replace(false_countries, inplace=True)\n",
    "\n",
    "num_unique_countries = len(ranking[\"country_full\"].unique())\n",
    "print(f\"Number of countries after the replacement : {num_unique_countries}\")"
   ]
  },
  {
   "cell_type": "markdown",
   "metadata": {},
   "source": [
    "#### 1.3. Choosing a cutting year"
   ]
  },
  {
   "cell_type": "markdown",
   "metadata": {},
   "source": [
    "After careful consideration, we have decided to choose a \"cut-off year\" based on our project's performance rather than changes in country names.\n",
    "We deem the data prior to 2000 as mostly irrelevant as it does not significantly influence current game results because:\n",
    "\n",
    "- Matches from that era do not contribute to today's game outcomes, mainly due to their age.\n",
    "\n",
    "- There have been considerable changes in the game dynamics and player preparation over the years. As a result, comparisons between past and present matches are not highly meaningful.\n",
    "\n",
    "- The structure of competitions has undergone numerous transformations. Therefore, team performances from the past may not accurately reflect their current capabilities.\n",
    "\n",
    "Once we implement this initial cut-off, we will further fine-tune the \"cut-off year\" to refine our results."
   ]
  },
  {
   "cell_type": "markdown",
   "metadata": {},
   "source": [
    "#### 1.3.1. Convert databases' date columns from String to DateTime"
   ]
  },
  {
   "cell_type": "code",
   "execution_count": 60,
   "metadata": {
    "ExecuteTime": {
     "end_time": "2023-11-20T13:25:34.020619Z",
     "start_time": "2023-11-20T13:25:33.967195Z"
    }
   },
   "outputs": [],
   "source": [
    "# Convert \"date columns\"  of datasets to date time type\n",
    "\n",
    "results['date']         = pd.to_datetime(results['date'], format='%Y-%m-%d') \n",
    "ranking['rank_date']    = pd.to_datetime(ranking['rank_date'], format='%Y-%m-%d') "
   ]
  },
  {
   "cell_type": "markdown",
   "metadata": {},
   "source": [
    "#### 1.3.2. Drop data before 01/01/2000"
   ]
  },
  {
   "cell_type": "code",
   "execution_count": 61,
   "metadata": {
    "ExecuteTime": {
     "end_time": "2023-11-20T13:25:34.037646Z",
     "start_time": "2023-11-20T13:25:33.973162Z"
    }
   },
   "outputs": [],
   "source": [
    "results = results[results['date'].dt.year >= 2000]\n",
    "ranking = ranking[ranking['rank_date'].dt.year >= 2000]"
   ]
  },
  {
   "cell_type": "code",
   "execution_count": 62,
   "metadata": {
    "ExecuteTime": {
     "end_time": "2023-11-20T13:25:34.041280Z",
     "start_time": "2023-11-20T13:25:33.985575Z"
    }
   },
   "outputs": [
    {
     "name": "stdout",
     "output_type": "stream",
     "text": [
      "            date home_team away_team  home_score  away_score tournament  \\\n",
      "22807 2000-01-04     Egypt      Togo           2           1   Friendly   \n",
      "22808 2000-01-07   Tunisia      Togo           7           0   Friendly   \n",
      "\n",
      "        city  country  neutral  \n",
      "22807  Aswan    Egypt    False  \n",
      "22808  Tunis  Tunisia    False  \n",
      "******************************************************************************************\n",
      "       rank  country_full country_abrv  total_points  previous_points  \\\n",
      "12119   138     St. Lucia          LCA         214.0            174.0   \n",
      "12120   130  Turkmenistan          TKM         251.0            251.0   \n",
      "\n",
      "       rank_change confederation  rank_date  \n",
      "12119          -14      CONCACAF 2000-01-19  \n",
      "12120            1           AFC 2000-01-19  \n"
     ]
    }
   ],
   "source": [
    "# Ensure that the result is as expected\n",
    "print(results.head(2))\n",
    "print(\"*\"*90)\n",
    "print(ranking.head(2))"
   ]
  },
  {
   "cell_type": "markdown",
   "metadata": {},
   "source": [
    "### 2. Resempling Data"
   ]
  },
  {
   "cell_type": "markdown",
   "metadata": {},
   "source": [
    "#### 2.1. Resetting indexs"
   ]
  },
  {
   "cell_type": "markdown",
   "metadata": {},
   "source": [
    "The dataset containing results will be indexed based solely on dates, while the dataset for ranking will also be indexed by the names of countries to assist with resampling."
   ]
  },
  {
   "cell_type": "code",
   "execution_count": 63,
   "metadata": {
    "ExecuteTime": {
     "end_time": "2023-11-20T13:25:34.049603Z",
     "start_time": "2023-11-20T13:25:33.989380Z"
    }
   },
   "outputs": [],
   "source": [
    "results.set_index(['date'], inplace=True)\n",
    "ranking.set_index(['rank_date', 'country_full'], inplace=True)"
   ]
  },
  {
   "cell_type": "code",
   "execution_count": 64,
   "metadata": {
    "ExecuteTime": {
     "end_time": "2023-11-20T13:25:34.049862Z",
     "start_time": "2023-11-20T13:25:33.995711Z"
    }
   },
   "outputs": [
    {
     "name": "stdout",
     "output_type": "stream",
     "text": [
      "Results's index  : ['date']\n",
      "Ranking's indexs : ['rank_date', 'country_full']\n"
     ]
    }
   ],
   "source": [
    "print(f\"Results's index  : {results.index.names}\")\n",
    "print(f\"Ranking's indexs : {ranking.index.names}\")"
   ]
  },
  {
   "cell_type": "markdown",
   "metadata": {},
   "source": [
    "#### 2.2. Grouping ranking datas by date and country's name."
   ]
  },
  {
   "cell_type": "code",
   "execution_count": 65,
   "metadata": {
    "ExecuteTime": {
     "end_time": "2023-11-20T13:25:34.067912Z",
     "start_time": "2023-11-20T13:25:33.998672Z"
    }
   },
   "outputs": [
    {
     "data": {
      "text/html": [
       "<div>\n",
       "<style scoped>\n",
       "    .dataframe tbody tr th:only-of-type {\n",
       "        vertical-align: middle;\n",
       "    }\n",
       "\n",
       "    .dataframe tbody tr th {\n",
       "        vertical-align: top;\n",
       "    }\n",
       "\n",
       "    .dataframe thead th {\n",
       "        text-align: right;\n",
       "    }\n",
       "</style>\n",
       "<table border=\"1\" class=\"dataframe\">\n",
       "  <thead>\n",
       "    <tr style=\"text-align: right;\">\n",
       "      <th></th>\n",
       "      <th></th>\n",
       "      <th>rank</th>\n",
       "      <th>country_abrv</th>\n",
       "      <th>total_points</th>\n",
       "      <th>previous_points</th>\n",
       "      <th>rank_change</th>\n",
       "      <th>confederation</th>\n",
       "    </tr>\n",
       "    <tr>\n",
       "      <th>rank_date</th>\n",
       "      <th>country_full</th>\n",
       "      <th></th>\n",
       "      <th></th>\n",
       "      <th></th>\n",
       "      <th></th>\n",
       "      <th></th>\n",
       "      <th></th>\n",
       "    </tr>\n",
       "  </thead>\n",
       "  <tbody>\n",
       "    <tr>\n",
       "      <th rowspan=\"5\" valign=\"top\">2000-01-19</th>\n",
       "      <th>St. Lucia</th>\n",
       "      <td>138</td>\n",
       "      <td>LCA</td>\n",
       "      <td>214.00</td>\n",
       "      <td>174.00</td>\n",
       "      <td>-14</td>\n",
       "      <td>CONCACAF</td>\n",
       "    </tr>\n",
       "    <tr>\n",
       "      <th>Turkmenistan</th>\n",
       "      <td>130</td>\n",
       "      <td>TKM</td>\n",
       "      <td>251.00</td>\n",
       "      <td>251.00</td>\n",
       "      <td>1</td>\n",
       "      <td>AFC</td>\n",
       "    </tr>\n",
       "    <tr>\n",
       "      <th>Bangladesh</th>\n",
       "      <td>131</td>\n",
       "      <td>BAN</td>\n",
       "      <td>247.00</td>\n",
       "      <td>247.00</td>\n",
       "      <td>1</td>\n",
       "      <td>AFC</td>\n",
       "    </tr>\n",
       "    <tr>\n",
       "      <th>Sudan</th>\n",
       "      <td>132</td>\n",
       "      <td>SDN</td>\n",
       "      <td>244.00</td>\n",
       "      <td>244.00</td>\n",
       "      <td>0</td>\n",
       "      <td>CAF</td>\n",
       "    </tr>\n",
       "    <tr>\n",
       "      <th>Burundi</th>\n",
       "      <td>133</td>\n",
       "      <td>BDI</td>\n",
       "      <td>238.00</td>\n",
       "      <td>239.00</td>\n",
       "      <td>0</td>\n",
       "      <td>CAF</td>\n",
       "    </tr>\n",
       "    <tr>\n",
       "      <th>...</th>\n",
       "      <th>...</th>\n",
       "      <td>...</td>\n",
       "      <td>...</td>\n",
       "      <td>...</td>\n",
       "      <td>...</td>\n",
       "      <td>...</td>\n",
       "      <td>...</td>\n",
       "    </tr>\n",
       "    <tr>\n",
       "      <th rowspan=\"5\" valign=\"top\">2023-07-20</th>\n",
       "      <th>Cape Verde</th>\n",
       "      <td>66</td>\n",
       "      <td>CPV</td>\n",
       "      <td>1354.65</td>\n",
       "      <td>1354.65</td>\n",
       "      <td>0</td>\n",
       "      <td>CAF</td>\n",
       "    </tr>\n",
       "    <tr>\n",
       "      <th>Iceland</th>\n",
       "      <td>67</td>\n",
       "      <td>ISL</td>\n",
       "      <td>1352.98</td>\n",
       "      <td>1352.98</td>\n",
       "      <td>0</td>\n",
       "      <td>UEFA</td>\n",
       "    </tr>\n",
       "    <tr>\n",
       "      <th>Macedonia</th>\n",
       "      <td>68</td>\n",
       "      <td>MKD</td>\n",
       "      <td>1350.53</td>\n",
       "      <td>1350.53</td>\n",
       "      <td>0</td>\n",
       "      <td>UEFA</td>\n",
       "    </tr>\n",
       "    <tr>\n",
       "      <th>Jamaica</th>\n",
       "      <td>58</td>\n",
       "      <td>JAM</td>\n",
       "      <td>1409.73</td>\n",
       "      <td>1367.83</td>\n",
       "      <td>-5</td>\n",
       "      <td>CONCACAF</td>\n",
       "    </tr>\n",
       "    <tr>\n",
       "      <th>US Virgin Islands</th>\n",
       "      <td>205</td>\n",
       "      <td>VIR</td>\n",
       "      <td>816.59</td>\n",
       "      <td>816.59</td>\n",
       "      <td>-3</td>\n",
       "      <td>CONCACAF</td>\n",
       "    </tr>\n",
       "  </tbody>\n",
       "</table>\n",
       "<p>52638 rows × 6 columns</p>\n",
       "</div>"
      ],
      "text/plain": [
       "                              rank country_abrv  total_points  \\\n",
       "rank_date  country_full                                         \n",
       "2000-01-19 St. Lucia           138          LCA        214.00   \n",
       "           Turkmenistan        130          TKM        251.00   \n",
       "           Bangladesh          131          BAN        247.00   \n",
       "           Sudan               132          SDN        244.00   \n",
       "           Burundi             133          BDI        238.00   \n",
       "...                            ...          ...           ...   \n",
       "2023-07-20 Cape Verde           66          CPV       1354.65   \n",
       "           Iceland              67          ISL       1352.98   \n",
       "           Macedonia            68          MKD       1350.53   \n",
       "           Jamaica              58          JAM       1409.73   \n",
       "           US Virgin Islands   205          VIR        816.59   \n",
       "\n",
       "                              previous_points  rank_change confederation  \n",
       "rank_date  country_full                                                   \n",
       "2000-01-19 St. Lucia                   174.00          -14      CONCACAF  \n",
       "           Turkmenistan                251.00            1           AFC  \n",
       "           Bangladesh                  247.00            1           AFC  \n",
       "           Sudan                       244.00            0           CAF  \n",
       "           Burundi                     239.00            0           CAF  \n",
       "...                                       ...          ...           ...  \n",
       "2023-07-20 Cape Verde                 1354.65            0           CAF  \n",
       "           Iceland                    1352.98            0          UEFA  \n",
       "           Macedonia                  1350.53            0          UEFA  \n",
       "           Jamaica                    1367.83           -5      CONCACAF  \n",
       "           US Virgin Islands           816.59           -3      CONCACAF  \n",
       "\n",
       "[52638 rows x 6 columns]"
      ]
     },
     "execution_count": 65,
     "metadata": {},
     "output_type": "execute_result"
    }
   ],
   "source": [
    "# Grouping by date and country name\n",
    "grouped_ranking = ranking.groupby(by=['rank_date', 'country_full']).ffill()\n",
    "grouped_ranking"
   ]
  },
  {
   "cell_type": "markdown",
   "metadata": {},
   "source": [
    "#### 2.3. Upsampling"
   ]
  },
  {
   "cell_type": "code",
   "execution_count": 66,
   "metadata": {
    "ExecuteTime": {
     "end_time": "2023-11-20T13:25:34.069198Z",
     "start_time": "2023-11-20T13:25:34.018099Z"
    }
   },
   "outputs": [],
   "source": [
    "# Reset Ranking's indexs for the upsampling\n",
    "grouped_ranking.reset_index(inplace=True)\n",
    "grouped_ranking.set_index(\"rank_date\", inplace=True)\n"
   ]
  },
  {
   "cell_type": "code",
   "execution_count": 67,
   "metadata": {
    "ExecuteTime": {
     "end_time": "2023-11-20T13:25:39.235965Z",
     "start_time": "2023-11-20T13:25:34.025484Z"
    }
   },
   "outputs": [
    {
     "name": "stdout",
     "output_type": "stream",
     "text": [
      "Count lines where France appears before the upsamling : 258\n"
     ]
    },
    {
     "name": "stdout",
     "output_type": "stream",
     "text": [
      "Count lines where France appears after the upsamling : 8584\n"
     ]
    }
   ],
   "source": [
    "# An example to observe the impact of upsampling on our dataset\n",
    "count_france_lines = len(grouped_ranking.loc[grouped_ranking['country_full'] == \"France\"])\n",
    "print(f\"Count lines where France appears before the upsamling : {count_france_lines}\")\n",
    "\n",
    "# For each country, we create a sub-dataset. We upsample it by day, assign the latest non-null values to each date, \n",
    "# and add new rows to `sampled_ranking`, which represents the final dataset.\n",
    "list_of_countries   = grouped_ranking[\"country_full\"].unique()\n",
    "sampled_ranking     = pd.DataFrame()\n",
    "\n",
    "for country in list_of_countries:\n",
    "    \n",
    "    df_country      = grouped_ranking[grouped_ranking['country_full'] == country].copy()\n",
    "    df_country      = df_country.resample(\"D\").last().ffill()\n",
    "    sampled_ranking = pd.concat([sampled_ranking, df_country], axis=0)\n",
    "    \n",
    "sampled_ranking     = sampled_ranking.sort_index()\n",
    "count_france_lines  = len(sampled_ranking.loc[sampled_ranking['country_full'] == \"France\"])\n",
    "\n",
    "print(f\"Count lines where France appears after the upsamling : {count_france_lines}\")"
   ]
  },
  {
   "cell_type": "markdown",
   "metadata": {},
   "source": [
    "### 3. Merging datasets"
   ]
  },
  {
   "cell_type": "code",
   "execution_count": 68,
   "metadata": {
    "ExecuteTime": {
     "end_time": "2023-11-20T13:25:39.238159Z",
     "start_time": "2023-11-20T13:25:39.232842Z"
    }
   },
   "outputs": [],
   "source": [
    "# Reset datasets' indexs for the merging\n",
    "sampled_ranking.reset_index(inplace=True)\n",
    "results.reset_index(inplace=True)"
   ]
  },
  {
   "cell_type": "markdown",
   "metadata": {},
   "source": [
    "#### 3.1. First merging on home team"
   ]
  },
  {
   "cell_type": "code",
   "execution_count": 69,
   "metadata": {
    "ExecuteTime": {
     "end_time": "2023-11-20T13:25:39.387977Z",
     "start_time": "2023-11-20T13:25:39.239231Z"
    }
   },
   "outputs": [],
   "source": [
    "# Merging results with sampled_ranking on home team\n",
    "sampled_ranking.columns = [col + \"_home\" if col != \"rank_date\" and col != \"country_full\" \n",
    "                                         else col for col in sampled_ranking.columns]\n",
    "rera                    = results.merge(sampled_ranking, \n",
    "                                        left_on     =[\"date\", \"home_team\"], \n",
    "                                        right_on    =[\"rank_date\", \"country_full\"], \n",
    "                                        suffixes    =[None,'_home']).drop([\"rank_date\",\"country_full\", \"country_abrv_home\"],\n",
    "                                        axis        =1)"
   ]
  },
  {
   "cell_type": "markdown",
   "metadata": {},
   "source": [
    "#### 3.2. Second merging on away team"
   ]
  },
  {
   "cell_type": "code",
   "execution_count": 70,
   "metadata": {
    "ExecuteTime": {
     "end_time": "2023-11-20T13:25:39.540699Z",
     "start_time": "2023-11-20T13:25:39.390709Z"
    }
   },
   "outputs": [],
   "source": [
    "# Merging results with sampled_ranking on away team\n",
    "sampled_ranking.columns = [col.replace(\"_home\", \"_away\") for col in sampled_ranking.columns]\n",
    "rera                    = rera.merge(sampled_ranking, \n",
    "                                     left_on   =[\"date\", \"away_team\"], \n",
    "                                     right_on  =[\"rank_date\", \"country_full\"], \n",
    "                                     suffixes  =[None,'_away']).drop([\"rank_date\",\"country_full\", \"country_abrv_away\"],\n",
    "                                     axis      =1)"
   ]
  },
  {
   "cell_type": "markdown",
   "metadata": {},
   "source": [
    "#### 3.3 Observe results from the merging"
   ]
  },
  {
   "cell_type": "code",
   "execution_count": 71,
   "metadata": {
    "ExecuteTime": {
     "end_time": "2023-11-20T13:25:39.555705Z",
     "start_time": "2023-11-20T13:25:39.541610Z"
    }
   },
   "outputs": [
    {
     "data": {
      "text/html": [
       "<div>\n",
       "<style scoped>\n",
       "    .dataframe tbody tr th:only-of-type {\n",
       "        vertical-align: middle;\n",
       "    }\n",
       "\n",
       "    .dataframe tbody tr th {\n",
       "        vertical-align: top;\n",
       "    }\n",
       "\n",
       "    .dataframe thead th {\n",
       "        text-align: right;\n",
       "    }\n",
       "</style>\n",
       "<table border=\"1\" class=\"dataframe\">\n",
       "  <thead>\n",
       "    <tr style=\"text-align: right;\">\n",
       "      <th></th>\n",
       "      <th>date</th>\n",
       "      <th>home_team</th>\n",
       "      <th>away_team</th>\n",
       "      <th>home_score</th>\n",
       "      <th>away_score</th>\n",
       "      <th>tournament</th>\n",
       "      <th>city</th>\n",
       "      <th>country</th>\n",
       "      <th>neutral</th>\n",
       "      <th>rank_home</th>\n",
       "      <th>total_points_home</th>\n",
       "      <th>previous_points_home</th>\n",
       "      <th>rank_change_home</th>\n",
       "      <th>confederation_home</th>\n",
       "      <th>rank_away</th>\n",
       "      <th>total_points_away</th>\n",
       "      <th>previous_points_away</th>\n",
       "      <th>rank_change_away</th>\n",
       "      <th>confederation_away</th>\n",
       "    </tr>\n",
       "  </thead>\n",
       "  <tbody>\n",
       "    <tr>\n",
       "      <th>0</th>\n",
       "      <td>2000-01-19</td>\n",
       "      <td>Panama</td>\n",
       "      <td>Guatemala</td>\n",
       "      <td>2</td>\n",
       "      <td>0</td>\n",
       "      <td>Friendly</td>\n",
       "      <td>Panama City</td>\n",
       "      <td>Panama</td>\n",
       "      <td>False</td>\n",
       "      <td>139.0</td>\n",
       "      <td>214.0</td>\n",
       "      <td>214.0</td>\n",
       "      <td>1.0</td>\n",
       "      <td>CONCACAF</td>\n",
       "      <td>73.0</td>\n",
       "      <td>454.0</td>\n",
       "      <td>453.0</td>\n",
       "      <td>0.0</td>\n",
       "      <td>CONCACAF</td>\n",
       "    </tr>\n",
       "    <tr>\n",
       "      <th>1</th>\n",
       "      <td>2000-01-19</td>\n",
       "      <td>Togo</td>\n",
       "      <td>Egypt</td>\n",
       "      <td>1</td>\n",
       "      <td>0</td>\n",
       "      <td>Friendly</td>\n",
       "      <td>Lomé</td>\n",
       "      <td>Togo</td>\n",
       "      <td>False</td>\n",
       "      <td>87.0</td>\n",
       "      <td>413.0</td>\n",
       "      <td>416.0</td>\n",
       "      <td>0.0</td>\n",
       "      <td>CAF</td>\n",
       "      <td>38.0</td>\n",
       "      <td>558.0</td>\n",
       "      <td>556.0</td>\n",
       "      <td>0.0</td>\n",
       "      <td>CAF</td>\n",
       "    </tr>\n",
       "    <tr>\n",
       "      <th>2</th>\n",
       "      <td>2000-01-20</td>\n",
       "      <td>Burkina Faso</td>\n",
       "      <td>Algeria</td>\n",
       "      <td>1</td>\n",
       "      <td>0</td>\n",
       "      <td>Friendly</td>\n",
       "      <td>Ouagadougou</td>\n",
       "      <td>Burkina Faso</td>\n",
       "      <td>False</td>\n",
       "      <td>74.0</td>\n",
       "      <td>453.0</td>\n",
       "      <td>456.0</td>\n",
       "      <td>3.0</td>\n",
       "      <td>CAF</td>\n",
       "      <td>86.0</td>\n",
       "      <td>421.0</td>\n",
       "      <td>422.0</td>\n",
       "      <td>0.0</td>\n",
       "      <td>CAF</td>\n",
       "    </tr>\n",
       "    <tr>\n",
       "      <th>3</th>\n",
       "      <td>2000-01-20</td>\n",
       "      <td>Malta</td>\n",
       "      <td>Qatar</td>\n",
       "      <td>2</td>\n",
       "      <td>0</td>\n",
       "      <td>Friendly</td>\n",
       "      <td>Attard</td>\n",
       "      <td>Malta</td>\n",
       "      <td>False</td>\n",
       "      <td>116.0</td>\n",
       "      <td>308.0</td>\n",
       "      <td>309.0</td>\n",
       "      <td>0.0</td>\n",
       "      <td>UEFA</td>\n",
       "      <td>107.0</td>\n",
       "      <td>357.0</td>\n",
       "      <td>357.0</td>\n",
       "      <td>0.0</td>\n",
       "      <td>AFC</td>\n",
       "    </tr>\n",
       "    <tr>\n",
       "      <th>4</th>\n",
       "      <td>2000-01-21</td>\n",
       "      <td>New Zealand</td>\n",
       "      <td>South Korea</td>\n",
       "      <td>0</td>\n",
       "      <td>1</td>\n",
       "      <td>Friendly</td>\n",
       "      <td>Auckland</td>\n",
       "      <td>New Zealand</td>\n",
       "      <td>False</td>\n",
       "      <td>100.0</td>\n",
       "      <td>381.0</td>\n",
       "      <td>381.0</td>\n",
       "      <td>0.0</td>\n",
       "      <td>OFC</td>\n",
       "      <td>52.0</td>\n",
       "      <td>522.0</td>\n",
       "      <td>522.0</td>\n",
       "      <td>1.0</td>\n",
       "      <td>AFC</td>\n",
       "    </tr>\n",
       "  </tbody>\n",
       "</table>\n",
       "</div>"
      ],
      "text/plain": [
       "        date     home_team    away_team  home_score  away_score tournament  \\\n",
       "0 2000-01-19        Panama    Guatemala           2           0   Friendly   \n",
       "1 2000-01-19          Togo        Egypt           1           0   Friendly   \n",
       "2 2000-01-20  Burkina Faso      Algeria           1           0   Friendly   \n",
       "3 2000-01-20         Malta        Qatar           2           0   Friendly   \n",
       "4 2000-01-21   New Zealand  South Korea           0           1   Friendly   \n",
       "\n",
       "          city       country  neutral  rank_home  total_points_home  \\\n",
       "0  Panama City        Panama    False      139.0              214.0   \n",
       "1         Lomé          Togo    False       87.0              413.0   \n",
       "2  Ouagadougou  Burkina Faso    False       74.0              453.0   \n",
       "3       Attard         Malta    False      116.0              308.0   \n",
       "4     Auckland   New Zealand    False      100.0              381.0   \n",
       "\n",
       "   previous_points_home  rank_change_home confederation_home  rank_away  \\\n",
       "0                 214.0               1.0           CONCACAF       73.0   \n",
       "1                 416.0               0.0                CAF       38.0   \n",
       "2                 456.0               3.0                CAF       86.0   \n",
       "3                 309.0               0.0               UEFA      107.0   \n",
       "4                 381.0               0.0                OFC       52.0   \n",
       "\n",
       "   total_points_away  previous_points_away  rank_change_away  \\\n",
       "0              454.0                 453.0               0.0   \n",
       "1              558.0                 556.0               0.0   \n",
       "2              421.0                 422.0               0.0   \n",
       "3              357.0                 357.0               0.0   \n",
       "4              522.0                 522.0               1.0   \n",
       "\n",
       "  confederation_away  \n",
       "0           CONCACAF  \n",
       "1                CAF  \n",
       "2                CAF  \n",
       "3                AFC  \n",
       "4                AFC  "
      ]
     },
     "execution_count": 71,
     "metadata": {},
     "output_type": "execute_result"
    }
   ],
   "source": [
    "rera.sort_values(by='date', inplace=True)\n",
    "rera.head()"
   ]
  },
  {
   "cell_type": "markdown",
   "metadata": {},
   "source": [
    "### 4. Altering features"
   ]
  },
  {
   "cell_type": "code",
   "execution_count": 72,
   "metadata": {
    "ExecuteTime": {
     "end_time": "2023-11-20T13:25:39.564803Z",
     "start_time": "2023-11-20T13:25:39.555436Z"
    }
   },
   "outputs": [
    {
     "name": "stdout",
     "output_type": "stream",
     "text": [
      "<class 'pandas.core.frame.DataFrame'>\n",
      "Index: 19460 entries, 0 to 19459\n",
      "Data columns (total 19 columns):\n",
      " #   Column                Non-Null Count  Dtype         \n",
      "---  ------                --------------  -----         \n",
      " 0   date                  19460 non-null  datetime64[ns]\n",
      " 1   home_team             19460 non-null  object        \n",
      " 2   away_team             19460 non-null  object        \n",
      " 3   home_score            19460 non-null  int64         \n",
      " 4   away_score            19460 non-null  int64         \n",
      " 5   tournament            19460 non-null  object        \n",
      " 6   city                  19460 non-null  object        \n",
      " 7   country               19460 non-null  object        \n",
      " 8   neutral               19460 non-null  bool          \n",
      " 9   rank_home             19460 non-null  float64       \n",
      " 10  total_points_home     19460 non-null  float64       \n",
      " 11  previous_points_home  19460 non-null  float64       \n",
      " 12  rank_change_home      19460 non-null  float64       \n",
      " 13  confederation_home    19460 non-null  object        \n",
      " 14  rank_away             19460 non-null  float64       \n",
      " 15  total_points_away     19460 non-null  float64       \n",
      " 16  previous_points_away  19460 non-null  float64       \n",
      " 17  rank_change_away      19460 non-null  float64       \n",
      " 18  confederation_away    19460 non-null  object        \n",
      "dtypes: bool(1), datetime64[ns](1), float64(8), int64(2), object(7)\n",
      "memory usage: 2.8+ MB\n"
     ]
    }
   ],
   "source": [
    "rera.info()"
   ]
  },
  {
   "cell_type": "markdown",
   "metadata": {},
   "source": [
    "#### 4.1. New Features"
   ]
  },
  {
   "cell_type": "markdown",
   "metadata": {},
   "source": [
    "##### 4.1.1. A `winner` feature"
   ]
  },
  {
   "cell_type": "markdown",
   "metadata": {},
   "source": [
    "`winner` will be an integer column, containing only three distinct values: `{0, 1, 2}`.\n",
    "- `0`: Indicates that the `home_team` has won.\n",
    "- `1`: Indicates that the `away_team` has won.\n",
    "- `2`: Represents a draw, signifying that both teams have an equal outcome."
   ]
  },
  {
   "cell_type": "code",
   "execution_count": 73,
   "metadata": {
    "ExecuteTime": {
     "end_time": "2023-11-20T13:25:39.583760Z",
     "start_time": "2023-11-20T13:25:39.563126Z"
    }
   },
   "outputs": [],
   "source": [
    "# Function to define a winner\n",
    "def define_winner(line) :\n",
    "    \n",
    "    if rera.loc[line.name, \"home_score\"] > rera.loc[line.name, \"away_score\"]:\n",
    "         return 0\n",
    "    \n",
    "    elif rera.loc[line.name, \"home_score\"] < rera.loc[line.name, \"away_score\"]:\n",
    "        return 1\n",
    "    \n",
    "    else :\n",
    "        return 2"
   ]
  },
  {
   "cell_type": "code",
   "execution_count": 74,
   "metadata": {
    "ExecuteTime": {
     "end_time": "2023-11-20T13:25:40.008114Z",
     "start_time": "2023-11-20T13:25:39.671778Z"
    }
   },
   "outputs": [],
   "source": [
    "# Create winner column and defining winners of each match\n",
    "rera['winner'] = rera.apply(lambda line : define_winner(line), axis=1)"
   ]
  },
  {
   "cell_type": "markdown",
   "metadata": {
    "collapsed": false
   },
   "source": [
    "###### 4.1.1.1. Draw matches issue\n",
    "\n",
    "In the case of a draw, we will update the `winner` column with the results of the shootouts data. If the `shootout` column is `NaN`, we will drop the row. Since our model has to predict the outcome of a match, with a binary output, we cannot have draws in our dataset."
   ]
  },
  {
   "cell_type": "markdown",
   "metadata": {
    "collapsed": false
   },
   "source": [
    "###### 4.1.1.2. Drop all friendly matches from the dataset that where draw\n",
    "\n",
    "First we need to drop all friendly draw machs from the dataset. Since we don't have the shootouts results for friendly matches."
   ]
  },
  {
   "cell_type": "code",
   "execution_count": 75,
   "metadata": {
    "ExecuteTime": {
     "end_time": "2023-11-20T13:25:40.010563Z",
     "start_time": "2023-11-20T13:25:39.988678Z"
    },
    "collapsed": false
   },
   "outputs": [
    {
     "name": "stdout",
     "output_type": "stream",
     "text": [
      "4628\n",
      "2774\n"
     ]
    }
   ],
   "source": [
    "print(len(rera[rera['winner'] == 2]))\n",
    "\n",
    "rera = rera.drop(rera[(rera['tournament'] == \"Friendly\") & (rera['winner'] == 2)].index)\n",
    "\n",
    "print(len(rera[rera['winner'] == 2]))"
   ]
  },
  {
   "cell_type": "markdown",
   "metadata": {
    "collapsed": false
   },
   "source": [
    "###### 4.1.1.3. Updating winner of draw matches with the shootouts results\n",
    "\n",
    "Now we can import the shootouts dataset and update the `winner` column by comparing the `shootout` dataset with the `date`, `home_team` and `away_team` columns of the `rera` dataset."
   ]
  },
  {
   "cell_type": "code",
   "execution_count": 76,
   "metadata": {
    "ExecuteTime": {
     "end_time": "2023-11-20T13:25:41.349448Z",
     "start_time": "2023-11-20T13:25:40.011414Z"
    },
    "collapsed": false
   },
   "outputs": [],
   "source": [
    "# Import shootouts dataset\n",
    "shootouts         = pd.read_csv(\"../data/shootouts.csv\")\n",
    "shootouts['date'] = pd.to_datetime(shootouts['date'], format='%Y-%m-%d')\n",
    "\n",
    "# For each row in rera that has a draw, look for the corresponding match in shootouts,\n",
    "# And then update the winner column.\n",
    "\n",
    "for index, row in rera.iterrows():\n",
    "\n",
    "    if row['winner'] == 2:\n",
    "        \n",
    "        shootout = shootouts.loc[(shootouts['date']         == row['date'])         &\n",
    "                                 (shootouts['home_team']    == row['home_team'])    & \n",
    "                                 (shootouts['away_team']    == row['away_team'])]\n",
    "        \n",
    "        if len(shootout) > 0:\n",
    "            \n",
    "            # Update the winner column as so :\n",
    "            # If the home team won the shootout the winner is 0 else the winner is 1\n",
    "            \n",
    "            #print(row['date'], row['home_team'], row['away_team'], row['winner'], row['tournament'])\n",
    "            #print('SHOOTOUT', shootout['date'].values[0], shootout['home_team'].values[0], shootout['away_team'].values[0], shootout['winner'].values[0])\n",
    "            \n",
    "            if shootout['winner'].values[0] == row['home_team']:\n",
    "                rera.loc[index, 'winner'] = 0\n",
    "            else:\n",
    "                rera.loc[index, 'winner'] = 1"
   ]
  },
  {
   "cell_type": "markdown",
   "metadata": {
    "collapsed": false
   },
   "source": [
    "###### 4.1.1.4. Drop all left draw matches from the dataset"
   ]
  },
  {
   "cell_type": "code",
   "execution_count": 77,
   "metadata": {
    "ExecuteTime": {
     "end_time": "2023-11-20T13:25:41.355340Z",
     "start_time": "2023-11-20T13:25:41.348047Z"
    },
    "collapsed": false
   },
   "outputs": [
    {
     "name": "stdout",
     "output_type": "stream",
     "text": [
      "2561\n",
      "0\n"
     ]
    }
   ],
   "source": [
    "print(len(rera[rera['winner'] == 2]))\n",
    "\n",
    "rera = rera.drop(rera[rera['winner'] == 2].index)\n",
    "\n",
    "print(len(rera[rera['winner'] == 2]))"
   ]
  },
  {
   "cell_type": "markdown",
   "metadata": {},
   "source": [
    "##### 4.1.2. Average goal feature"
   ]
  },
  {
   "cell_type": "markdown",
   "metadata": {},
   "source": [
    "We are adding two new features, `home_goals_avg` and `away_goals_avg`. Two columns containing the average number of goals scored by the home/away team in the last 7 matches. \n",
    "\n",
    "(Seven matches on average are sufficient to form an idea about the current form of a football team.)"
   ]
  },
  {
   "cell_type": "code",
   "execution_count": 78,
   "metadata": {
    "ExecuteTime": {
     "end_time": "2023-11-20T13:25:41.362028Z",
     "start_time": "2023-11-20T13:25:41.360091Z"
    }
   },
   "outputs": [],
   "source": [
    "# A Function to compute the average goal of a team on the last 7 matches\n",
    "# If there is less than 7 matches, we compute the average on the number of matches available\n",
    "# If there is no match, we return 0\n",
    "\n",
    "def compute_avg_country_goal(line, country):\n",
    "    \n",
    "    # Get the date of the current match and get the 7 previous matches\n",
    "    date                = line.name\n",
    "    previous_matches    = rera.loc[(rera['home_team'] == country) | (rera['away_team'] == country)].loc[:date].tail(7)\n",
    "    \n",
    "    # If there is no match, we return 0\n",
    "    if len(previous_matches) == 0:\n",
    "        return 0\n",
    "    \n",
    "    # If there is less than 7 matches, we compute the average on the number of matches available\n",
    "    elif len(previous_matches) < 7:\n",
    "        return previous_matches['home_score'].sum() + previous_matches['away_score'].sum() / len(previous_matches)\n",
    "    \n",
    "    # If there is 7 matches, we compute the average on the 7 matches\n",
    "    else:\n",
    "        return previous_matches['home_score'].sum() + previous_matches['away_score'].sum() / 7"
   ]
  },
  {
   "cell_type": "code",
   "execution_count": 79,
   "metadata": {
    "ExecuteTime": {
     "end_time": "2023-11-20T13:26:21.958034Z",
     "start_time": "2023-11-20T13:25:41.362897Z"
    },
    "collapsed": false
   },
   "outputs": [],
   "source": [
    "# Create home_goals_avg and away_goals_avg columns and defining the average goal of each team\n",
    "\n",
    "rera['home_goals_avg'] = rera.apply(lambda line : compute_avg_country_goal(line, line['home_team']), axis=1)\n",
    "rera['away_goals_avg'] = rera.apply(lambda line : compute_avg_country_goal(line, line['away_team']), axis=1)"
   ]
  },
  {
   "cell_type": "code",
   "execution_count": 80,
   "metadata": {
    "ExecuteTime": {
     "end_time": "2023-11-20T13:26:21.968007Z",
     "start_time": "2023-11-20T13:26:21.965812Z"
    },
    "collapsed": false
   },
   "outputs": [
    {
     "data": {
      "text/html": [
       "<div>\n",
       "<style scoped>\n",
       "    .dataframe tbody tr th:only-of-type {\n",
       "        vertical-align: middle;\n",
       "    }\n",
       "\n",
       "    .dataframe tbody tr th {\n",
       "        vertical-align: top;\n",
       "    }\n",
       "\n",
       "    .dataframe thead th {\n",
       "        text-align: right;\n",
       "    }\n",
       "</style>\n",
       "<table border=\"1\" class=\"dataframe\">\n",
       "  <thead>\n",
       "    <tr style=\"text-align: right;\">\n",
       "      <th></th>\n",
       "      <th>date</th>\n",
       "      <th>home_team</th>\n",
       "      <th>away_team</th>\n",
       "      <th>home_score</th>\n",
       "      <th>away_score</th>\n",
       "      <th>tournament</th>\n",
       "      <th>city</th>\n",
       "      <th>country</th>\n",
       "      <th>neutral</th>\n",
       "      <th>rank_home</th>\n",
       "      <th>...</th>\n",
       "      <th>rank_change_home</th>\n",
       "      <th>confederation_home</th>\n",
       "      <th>rank_away</th>\n",
       "      <th>total_points_away</th>\n",
       "      <th>previous_points_away</th>\n",
       "      <th>rank_change_away</th>\n",
       "      <th>confederation_away</th>\n",
       "      <th>winner</th>\n",
       "      <th>home_goals_avg</th>\n",
       "      <th>away_goals_avg</th>\n",
       "    </tr>\n",
       "  </thead>\n",
       "  <tbody>\n",
       "    <tr>\n",
       "      <th>0</th>\n",
       "      <td>2000-01-19</td>\n",
       "      <td>Panama</td>\n",
       "      <td>Guatemala</td>\n",
       "      <td>2</td>\n",
       "      <td>0</td>\n",
       "      <td>Friendly</td>\n",
       "      <td>Panama City</td>\n",
       "      <td>Panama</td>\n",
       "      <td>False</td>\n",
       "      <td>139.0</td>\n",
       "      <td>...</td>\n",
       "      <td>1.0</td>\n",
       "      <td>CONCACAF</td>\n",
       "      <td>73.0</td>\n",
       "      <td>454.0</td>\n",
       "      <td>453.0</td>\n",
       "      <td>0.0</td>\n",
       "      <td>CONCACAF</td>\n",
       "      <td>0</td>\n",
       "      <td>2.0</td>\n",
       "      <td>2.0</td>\n",
       "    </tr>\n",
       "    <tr>\n",
       "      <th>1</th>\n",
       "      <td>2000-01-19</td>\n",
       "      <td>Togo</td>\n",
       "      <td>Egypt</td>\n",
       "      <td>1</td>\n",
       "      <td>0</td>\n",
       "      <td>Friendly</td>\n",
       "      <td>Lomé</td>\n",
       "      <td>Togo</td>\n",
       "      <td>False</td>\n",
       "      <td>87.0</td>\n",
       "      <td>...</td>\n",
       "      <td>0.0</td>\n",
       "      <td>CAF</td>\n",
       "      <td>38.0</td>\n",
       "      <td>558.0</td>\n",
       "      <td>556.0</td>\n",
       "      <td>0.0</td>\n",
       "      <td>CAF</td>\n",
       "      <td>0</td>\n",
       "      <td>1.0</td>\n",
       "      <td>1.0</td>\n",
       "    </tr>\n",
       "    <tr>\n",
       "      <th>2</th>\n",
       "      <td>2000-01-20</td>\n",
       "      <td>Burkina Faso</td>\n",
       "      <td>Algeria</td>\n",
       "      <td>1</td>\n",
       "      <td>0</td>\n",
       "      <td>Friendly</td>\n",
       "      <td>Ouagadougou</td>\n",
       "      <td>Burkina Faso</td>\n",
       "      <td>False</td>\n",
       "      <td>74.0</td>\n",
       "      <td>...</td>\n",
       "      <td>3.0</td>\n",
       "      <td>CAF</td>\n",
       "      <td>86.0</td>\n",
       "      <td>421.0</td>\n",
       "      <td>422.0</td>\n",
       "      <td>0.0</td>\n",
       "      <td>CAF</td>\n",
       "      <td>0</td>\n",
       "      <td>1.0</td>\n",
       "      <td>1.0</td>\n",
       "    </tr>\n",
       "  </tbody>\n",
       "</table>\n",
       "<p>3 rows × 22 columns</p>\n",
       "</div>"
      ],
      "text/plain": [
       "        date     home_team  away_team  home_score  away_score tournament  \\\n",
       "0 2000-01-19        Panama  Guatemala           2           0   Friendly   \n",
       "1 2000-01-19          Togo      Egypt           1           0   Friendly   \n",
       "2 2000-01-20  Burkina Faso    Algeria           1           0   Friendly   \n",
       "\n",
       "          city       country  neutral  rank_home  ...  rank_change_home  \\\n",
       "0  Panama City        Panama    False      139.0  ...               1.0   \n",
       "1         Lomé          Togo    False       87.0  ...               0.0   \n",
       "2  Ouagadougou  Burkina Faso    False       74.0  ...               3.0   \n",
       "\n",
       "   confederation_home  rank_away total_points_away  previous_points_away  \\\n",
       "0            CONCACAF       73.0             454.0                 453.0   \n",
       "1                 CAF       38.0             558.0                 556.0   \n",
       "2                 CAF       86.0             421.0                 422.0   \n",
       "\n",
       "   rank_change_away  confederation_away  winner home_goals_avg  away_goals_avg  \n",
       "0               0.0            CONCACAF       0            2.0             2.0  \n",
       "1               0.0                 CAF       0            1.0             1.0  \n",
       "2               0.0                 CAF       0            1.0             1.0  \n",
       "\n",
       "[3 rows x 22 columns]"
      ]
     },
     "execution_count": 80,
     "metadata": {},
     "output_type": "execute_result"
    }
   ],
   "source": [
    "rera.head(3)"
   ]
  },
  {
   "cell_type": "markdown",
   "metadata": {
    "collapsed": false
   },
   "source": [
    "##### 4.1.3. A average win feature"
   ]
  },
  {
   "cell_type": "markdown",
   "metadata": {
    "collapsed": false
   },
   "source": [
    "We are adding two new features, `home_win_avg` and `away_win_avg`. Two columns containing the average number of wins of the home/away team in the last 7 matches.\n",
    "\n",
    "(Seven matches on average are sufficient to form an idea about the current form of a football team.)"
   ]
  },
  {
   "cell_type": "code",
   "execution_count": 81,
   "metadata": {
    "ExecuteTime": {
     "end_time": "2023-11-20T13:26:21.973761Z",
     "start_time": "2023-11-20T13:26:21.969323Z"
    },
    "collapsed": false
   },
   "outputs": [],
   "source": [
    "# A Function to compute the average win of a team on the last 7 matches\n",
    "# If there is less than 7 matches, we compute the average on the number of matches available\n",
    "# If there is no match, we return 0\n",
    "\n",
    "def compute_avg_country_win(line, country):\n",
    "    \n",
    "    # Get the date of the current match and get the 7 previous matches\n",
    "    date                = line.name\n",
    "    previous_matches    = rera.loc[(rera['home_team'] == country) | (rera['away_team'] == country)].loc[:date].tail(7)\n",
    "    \n",
    "    # If there is no match, we return 0\n",
    "    if len(previous_matches) == 0:\n",
    "        return 0\n",
    "    \n",
    "    # If there is less than 7 matches, we compute the average on the number of matches available\n",
    "    elif len(previous_matches) < 7:\n",
    "        return previous_matches['winner'].sum() / len(previous_matches)\n",
    "    \n",
    "    # If there is 7 matches, we compute the average on the 7 matches\n",
    "    else:\n",
    "        return previous_matches['winner'].sum() / 7"
   ]
  },
  {
   "cell_type": "code",
   "execution_count": 82,
   "metadata": {
    "ExecuteTime": {
     "end_time": "2023-11-20T13:27:02.528945Z",
     "start_time": "2023-11-20T13:26:21.972487Z"
    },
    "collapsed": false
   },
   "outputs": [],
   "source": [
    "# Create home_win_avg and away_win_avg columns and defining the average win of each team\n",
    "\n",
    "rera['home_win_avg'] = rera.apply(lambda line : compute_avg_country_win(line, line['home_team']), axis=1)\n",
    "rera['away_win_avg'] = rera.apply(lambda line : compute_avg_country_win(line, line['away_team']), axis=1)"
   ]
  },
  {
   "cell_type": "code",
   "execution_count": 83,
   "metadata": {
    "ExecuteTime": {
     "end_time": "2023-11-20T13:27:02.538449Z",
     "start_time": "2023-11-20T13:27:02.535988Z"
    },
    "collapsed": false
   },
   "outputs": [
    {
     "data": {
      "text/html": [
       "<div>\n",
       "<style scoped>\n",
       "    .dataframe tbody tr th:only-of-type {\n",
       "        vertical-align: middle;\n",
       "    }\n",
       "\n",
       "    .dataframe tbody tr th {\n",
       "        vertical-align: top;\n",
       "    }\n",
       "\n",
       "    .dataframe thead th {\n",
       "        text-align: right;\n",
       "    }\n",
       "</style>\n",
       "<table border=\"1\" class=\"dataframe\">\n",
       "  <thead>\n",
       "    <tr style=\"text-align: right;\">\n",
       "      <th></th>\n",
       "      <th>date</th>\n",
       "      <th>home_team</th>\n",
       "      <th>away_team</th>\n",
       "      <th>home_score</th>\n",
       "      <th>away_score</th>\n",
       "      <th>tournament</th>\n",
       "      <th>city</th>\n",
       "      <th>country</th>\n",
       "      <th>neutral</th>\n",
       "      <th>rank_home</th>\n",
       "      <th>...</th>\n",
       "      <th>rank_away</th>\n",
       "      <th>total_points_away</th>\n",
       "      <th>previous_points_away</th>\n",
       "      <th>rank_change_away</th>\n",
       "      <th>confederation_away</th>\n",
       "      <th>winner</th>\n",
       "      <th>home_goals_avg</th>\n",
       "      <th>away_goals_avg</th>\n",
       "      <th>home_win_avg</th>\n",
       "      <th>away_win_avg</th>\n",
       "    </tr>\n",
       "  </thead>\n",
       "  <tbody>\n",
       "    <tr>\n",
       "      <th>0</th>\n",
       "      <td>2000-01-19</td>\n",
       "      <td>Panama</td>\n",
       "      <td>Guatemala</td>\n",
       "      <td>2</td>\n",
       "      <td>0</td>\n",
       "      <td>Friendly</td>\n",
       "      <td>Panama City</td>\n",
       "      <td>Panama</td>\n",
       "      <td>False</td>\n",
       "      <td>139.0</td>\n",
       "      <td>...</td>\n",
       "      <td>73.0</td>\n",
       "      <td>454.0</td>\n",
       "      <td>453.0</td>\n",
       "      <td>0.0</td>\n",
       "      <td>CONCACAF</td>\n",
       "      <td>0</td>\n",
       "      <td>2.0</td>\n",
       "      <td>2.0</td>\n",
       "      <td>0.0</td>\n",
       "      <td>0.0</td>\n",
       "    </tr>\n",
       "    <tr>\n",
       "      <th>1</th>\n",
       "      <td>2000-01-19</td>\n",
       "      <td>Togo</td>\n",
       "      <td>Egypt</td>\n",
       "      <td>1</td>\n",
       "      <td>0</td>\n",
       "      <td>Friendly</td>\n",
       "      <td>Lomé</td>\n",
       "      <td>Togo</td>\n",
       "      <td>False</td>\n",
       "      <td>87.0</td>\n",
       "      <td>...</td>\n",
       "      <td>38.0</td>\n",
       "      <td>558.0</td>\n",
       "      <td>556.0</td>\n",
       "      <td>0.0</td>\n",
       "      <td>CAF</td>\n",
       "      <td>0</td>\n",
       "      <td>1.0</td>\n",
       "      <td>1.0</td>\n",
       "      <td>0.0</td>\n",
       "      <td>0.0</td>\n",
       "    </tr>\n",
       "    <tr>\n",
       "      <th>2</th>\n",
       "      <td>2000-01-20</td>\n",
       "      <td>Burkina Faso</td>\n",
       "      <td>Algeria</td>\n",
       "      <td>1</td>\n",
       "      <td>0</td>\n",
       "      <td>Friendly</td>\n",
       "      <td>Ouagadougou</td>\n",
       "      <td>Burkina Faso</td>\n",
       "      <td>False</td>\n",
       "      <td>74.0</td>\n",
       "      <td>...</td>\n",
       "      <td>86.0</td>\n",
       "      <td>421.0</td>\n",
       "      <td>422.0</td>\n",
       "      <td>0.0</td>\n",
       "      <td>CAF</td>\n",
       "      <td>0</td>\n",
       "      <td>1.0</td>\n",
       "      <td>1.0</td>\n",
       "      <td>0.0</td>\n",
       "      <td>0.0</td>\n",
       "    </tr>\n",
       "  </tbody>\n",
       "</table>\n",
       "<p>3 rows × 24 columns</p>\n",
       "</div>"
      ],
      "text/plain": [
       "        date     home_team  away_team  home_score  away_score tournament  \\\n",
       "0 2000-01-19        Panama  Guatemala           2           0   Friendly   \n",
       "1 2000-01-19          Togo      Egypt           1           0   Friendly   \n",
       "2 2000-01-20  Burkina Faso    Algeria           1           0   Friendly   \n",
       "\n",
       "          city       country  neutral  rank_home  ...  rank_away  \\\n",
       "0  Panama City        Panama    False      139.0  ...       73.0   \n",
       "1         Lomé          Togo    False       87.0  ...       38.0   \n",
       "2  Ouagadougou  Burkina Faso    False       74.0  ...       86.0   \n",
       "\n",
       "   total_points_away  previous_points_away rank_change_away  \\\n",
       "0              454.0                 453.0              0.0   \n",
       "1              558.0                 556.0              0.0   \n",
       "2              421.0                 422.0              0.0   \n",
       "\n",
       "   confederation_away  winner  home_goals_avg  away_goals_avg home_win_avg  \\\n",
       "0            CONCACAF       0             2.0             2.0          0.0   \n",
       "1                 CAF       0             1.0             1.0          0.0   \n",
       "2                 CAF       0             1.0             1.0          0.0   \n",
       "\n",
       "   away_win_avg  \n",
       "0           0.0  \n",
       "1           0.0  \n",
       "2           0.0  \n",
       "\n",
       "[3 rows x 24 columns]"
      ]
     },
     "execution_count": 83,
     "metadata": {},
     "output_type": "execute_result"
    }
   ],
   "source": [
    "rera.head(3)"
   ]
  },
  {
   "cell_type": "markdown",
   "metadata": {
    "collapsed": false
   },
   "source": [
    "#### 4.2. Dropping useless features"
   ]
  },
  {
   "cell_type": "markdown",
   "metadata": {},
   "source": [
    "Correlation heatmap and basic statistics on `rera`. Used to have an overview on the relationship between features."
   ]
  },
  {
   "cell_type": "code",
   "execution_count": 84,
   "metadata": {
    "ExecuteTime": {
     "end_time": "2023-11-20T13:27:02.863157Z",
     "start_time": "2023-11-20T13:27:02.537974Z"
    }
   },
   "outputs": [
    {
     "data": {
      "image/png": "[encoded data removed]",
      "text/plain": [
       "<Figure size 640x480 with 2 Axes>"
      ]
     },
     "metadata": {},
     "output_type": "display_data"
    }
   ],
   "source": [
    "# Select only numeric columns\n",
    "numeric_columns = rera.select_dtypes(include=['float64', 'int64'])\n",
    "\n",
    "# Compute the correlation matrix\n",
    "correlation_matrix = numeric_columns.corr()\n",
    "\n",
    "# Create a heatmap with the correlation matrix\n",
    "sns.heatmap(correlation_matrix, annot=True, cmap='coolwarm', fmt=\".2f\")\n",
    "\n",
    "# Set plot title\n",
    "plt.title('Correlation Matrix')\n",
    "\n",
    "# Show the plot\n",
    "plt.show()"
   ]
  },
  {
   "cell_type": "code",
   "execution_count": 85,
   "metadata": {
    "ExecuteTime": {
     "end_time": "2023-11-20T13:27:02.883522Z",
     "start_time": "2023-11-20T13:27:02.862906Z"
    }
   },
   "outputs": [
    {
     "data": {
      "text/html": [
       "<div>\n",
       "<style scoped>\n",
       "    .dataframe tbody tr th:only-of-type {\n",
       "        vertical-align: middle;\n",
       "    }\n",
       "\n",
       "    .dataframe tbody tr th {\n",
       "        vertical-align: top;\n",
       "    }\n",
       "\n",
       "    .dataframe thead th {\n",
       "        text-align: right;\n",
       "    }\n",
       "</style>\n",
       "<table border=\"1\" class=\"dataframe\">\n",
       "  <thead>\n",
       "    <tr style=\"text-align: right;\">\n",
       "      <th></th>\n",
       "      <th>home_score</th>\n",
       "      <th>away_score</th>\n",
       "      <th>rank_home</th>\n",
       "      <th>total_points_home</th>\n",
       "      <th>previous_points_home</th>\n",
       "      <th>rank_change_home</th>\n",
       "      <th>rank_away</th>\n",
       "      <th>total_points_away</th>\n",
       "      <th>previous_points_away</th>\n",
       "      <th>rank_change_away</th>\n",
       "      <th>winner</th>\n",
       "      <th>home_goals_avg</th>\n",
       "      <th>away_goals_avg</th>\n",
       "      <th>home_win_avg</th>\n",
       "      <th>away_win_avg</th>\n",
       "    </tr>\n",
       "  </thead>\n",
       "  <tbody>\n",
       "    <tr>\n",
       "      <th>count</th>\n",
       "      <td>15045.000000</td>\n",
       "      <td>15045.000000</td>\n",
       "      <td>15045.000000</td>\n",
       "      <td>15045.000000</td>\n",
       "      <td>15045.000000</td>\n",
       "      <td>15045.000000</td>\n",
       "      <td>15045.000000</td>\n",
       "      <td>15045.000000</td>\n",
       "      <td>15045.000000</td>\n",
       "      <td>15045.000000</td>\n",
       "      <td>15045.000000</td>\n",
       "      <td>15045.000000</td>\n",
       "      <td>15045.000000</td>\n",
       "      <td>15045.000000</td>\n",
       "      <td>15045.000000</td>\n",
       "    </tr>\n",
       "    <tr>\n",
       "      <th>mean</th>\n",
       "      <td>1.806314</td>\n",
       "      <td>1.146162</td>\n",
       "      <td>78.397341</td>\n",
       "      <td>683.059723</td>\n",
       "      <td>682.556276</td>\n",
       "      <td>0.028980</td>\n",
       "      <td>83.551878</td>\n",
       "      <td>658.143702</td>\n",
       "      <td>656.916473</td>\n",
       "      <td>-0.158724</td>\n",
       "      <td>0.373679</td>\n",
       "      <td>13.550508</td>\n",
       "      <td>13.539325</td>\n",
       "      <td>0.371968</td>\n",
       "      <td>0.373498</td>\n",
       "    </tr>\n",
       "    <tr>\n",
       "      <th>std</th>\n",
       "      <td>1.714996</td>\n",
       "      <td>1.386003</td>\n",
       "      <td>54.286435</td>\n",
       "      <td>437.966047</td>\n",
       "      <td>437.569529</td>\n",
       "      <td>5.091214</td>\n",
       "      <td>54.985566</td>\n",
       "      <td>433.279300</td>\n",
       "      <td>433.225883</td>\n",
       "      <td>5.382504</td>\n",
       "      <td>0.483796</td>\n",
       "      <td>4.822605</td>\n",
       "      <td>5.052495</td>\n",
       "      <td>0.187109</td>\n",
       "      <td>0.187492</td>\n",
       "    </tr>\n",
       "    <tr>\n",
       "      <th>min</th>\n",
       "      <td>0.000000</td>\n",
       "      <td>0.000000</td>\n",
       "      <td>1.000000</td>\n",
       "      <td>2.000000</td>\n",
       "      <td>0.000000</td>\n",
       "      <td>-73.000000</td>\n",
       "      <td>1.000000</td>\n",
       "      <td>2.000000</td>\n",
       "      <td>0.000000</td>\n",
       "      <td>-73.000000</td>\n",
       "      <td>0.000000</td>\n",
       "      <td>1.000000</td>\n",
       "      <td>0.000000</td>\n",
       "      <td>0.000000</td>\n",
       "      <td>0.000000</td>\n",
       "    </tr>\n",
       "    <tr>\n",
       "      <th>25%</th>\n",
       "      <td>1.000000</td>\n",
       "      <td>0.000000</td>\n",
       "      <td>31.000000</td>\n",
       "      <td>350.000000</td>\n",
       "      <td>349.000000</td>\n",
       "      <td>-1.000000</td>\n",
       "      <td>37.000000</td>\n",
       "      <td>330.000000</td>\n",
       "      <td>329.000000</td>\n",
       "      <td>-1.000000</td>\n",
       "      <td>0.000000</td>\n",
       "      <td>10.428571</td>\n",
       "      <td>10.285714</td>\n",
       "      <td>0.285714</td>\n",
       "      <td>0.285714</td>\n",
       "    </tr>\n",
       "    <tr>\n",
       "      <th>50%</th>\n",
       "      <td>2.000000</td>\n",
       "      <td>1.000000</td>\n",
       "      <td>71.000000</td>\n",
       "      <td>584.000000</td>\n",
       "      <td>584.000000</td>\n",
       "      <td>0.000000</td>\n",
       "      <td>77.000000</td>\n",
       "      <td>558.000000</td>\n",
       "      <td>557.000000</td>\n",
       "      <td>0.000000</td>\n",
       "      <td>0.000000</td>\n",
       "      <td>13.142857</td>\n",
       "      <td>13.000000</td>\n",
       "      <td>0.428571</td>\n",
       "      <td>0.428571</td>\n",
       "    </tr>\n",
       "    <tr>\n",
       "      <th>75%</th>\n",
       "      <td>3.000000</td>\n",
       "      <td>2.000000</td>\n",
       "      <td>118.000000</td>\n",
       "      <td>970.000000</td>\n",
       "      <td>967.000000</td>\n",
       "      <td>1.000000</td>\n",
       "      <td>125.000000</td>\n",
       "      <td>940.000000</td>\n",
       "      <td>938.000000</td>\n",
       "      <td>1.000000</td>\n",
       "      <td>1.000000</td>\n",
       "      <td>16.142857</td>\n",
       "      <td>16.142857</td>\n",
       "      <td>0.428571</td>\n",
       "      <td>0.428571</td>\n",
       "    </tr>\n",
       "    <tr>\n",
       "      <th>max</th>\n",
       "      <td>31.000000</td>\n",
       "      <td>21.000000</td>\n",
       "      <td>211.000000</td>\n",
       "      <td>2164.000000</td>\n",
       "      <td>2151.000000</td>\n",
       "      <td>62.000000</td>\n",
       "      <td>211.000000</td>\n",
       "      <td>2164.000000</td>\n",
       "      <td>2134.000000</td>\n",
       "      <td>62.000000</td>\n",
       "      <td>1.000000</td>\n",
       "      <td>72.142857</td>\n",
       "      <td>69.857143</td>\n",
       "      <td>1.000000</td>\n",
       "      <td>1.000000</td>\n",
       "    </tr>\n",
       "  </tbody>\n",
       "</table>\n",
       "</div>"
      ],
      "text/plain": [
       "         home_score    away_score     rank_home  total_points_home  \\\n",
       "count  15045.000000  15045.000000  15045.000000       15045.000000   \n",
       "mean       1.806314      1.146162     78.397341         683.059723   \n",
       "std        1.714996      1.386003     54.286435         437.966047   \n",
       "min        0.000000      0.000000      1.000000           2.000000   \n",
       "25%        1.000000      0.000000     31.000000         350.000000   \n",
       "50%        2.000000      1.000000     71.000000         584.000000   \n",
       "75%        3.000000      2.000000    118.000000         970.000000   \n",
       "max       31.000000     21.000000    211.000000        2164.000000   \n",
       "\n",
       "       previous_points_home  rank_change_home     rank_away  \\\n",
       "count          15045.000000      15045.000000  15045.000000   \n",
       "mean             682.556276          0.028980     83.551878   \n",
       "std              437.569529          5.091214     54.985566   \n",
       "min                0.000000        -73.000000      1.000000   \n",
       "25%              349.000000         -1.000000     37.000000   \n",
       "50%              584.000000          0.000000     77.000000   \n",
       "75%              967.000000          1.000000    125.000000   \n",
       "max             2151.000000         62.000000    211.000000   \n",
       "\n",
       "       total_points_away  previous_points_away  rank_change_away  \\\n",
       "count       15045.000000          15045.000000      15045.000000   \n",
       "mean          658.143702            656.916473         -0.158724   \n",
       "std           433.279300            433.225883          5.382504   \n",
       "min             2.000000              0.000000        -73.000000   \n",
       "25%           330.000000            329.000000         -1.000000   \n",
       "50%           558.000000            557.000000          0.000000   \n",
       "75%           940.000000            938.000000          1.000000   \n",
       "max          2164.000000           2134.000000         62.000000   \n",
       "\n",
       "             winner  home_goals_avg  away_goals_avg  home_win_avg  \\\n",
       "count  15045.000000    15045.000000    15045.000000  15045.000000   \n",
       "mean       0.373679       13.550508       13.539325      0.371968   \n",
       "std        0.483796        4.822605        5.052495      0.187109   \n",
       "min        0.000000        1.000000        0.000000      0.000000   \n",
       "25%        0.000000       10.428571       10.285714      0.285714   \n",
       "50%        0.000000       13.142857       13.000000      0.428571   \n",
       "75%        1.000000       16.142857       16.142857      0.428571   \n",
       "max        1.000000       72.142857       69.857143      1.000000   \n",
       "\n",
       "       away_win_avg  \n",
       "count  15045.000000  \n",
       "mean       0.373498  \n",
       "std        0.187492  \n",
       "min        0.000000  \n",
       "25%        0.285714  \n",
       "50%        0.428571  \n",
       "75%        0.428571  \n",
       "max        1.000000  "
      ]
     },
     "execution_count": 85,
     "metadata": {},
     "output_type": "execute_result"
    }
   ],
   "source": [
    "numeric_columns.describe()"
   ]
  },
  {
   "cell_type": "markdown",
   "metadata": {
    "collapsed": false
   },
   "source": [
    "##### 4.2.1. Dropping `city` feature\n",
    "\n",
    "Having a `city` feature is not relevant to our analysis since we already have `country`. Therefore, we will drop it."
   ]
  },
  {
   "cell_type": "code",
   "execution_count": 86,
   "metadata": {
    "ExecuteTime": {
     "end_time": "2023-11-20T13:27:02.974524Z",
     "start_time": "2023-11-20T13:27:02.885283Z"
    },
    "collapsed": false
   },
   "outputs": [],
   "source": [
    "rera.drop(\"city\", axis=1, inplace=True)"
   ]
  },
  {
   "cell_type": "markdown",
   "metadata": {
    "collapsed": false
   },
   "source": [
    "##### 4.2.2. Dropping `home_score` and `away_score` feature\n",
    "\n",
    "We will drop `home_score` and `away_score` since we already have `winner`, `home_goals_avg` and `away_goals_avg` features.\n",
    "\n",
    "(The average goal feature is more relevant in the soccer context, since one team can score multiple times against a weaker team but then score nothing against a stronger opponent. It also gives a better overview on the team's performance over the years. Therefor, dropping the score columns will help us to avoid overfitting and misleading the model.)"
   ]
  },
  {
   "cell_type": "code",
   "execution_count": 87,
   "metadata": {
    "ExecuteTime": {
     "end_time": "2023-11-20T13:27:02.974686Z",
     "start_time": "2023-11-20T13:27:02.891211Z"
    },
    "collapsed": false
   },
   "outputs": [],
   "source": [
    "rera.drop([\"home_score\", \"away_score\"], axis=1, inplace=True)"
   ]
  },
  {
   "cell_type": "markdown",
   "metadata": {
    "collapsed": false
   },
   "source": [
    "##### 4.2.3. Dropping `country` feature\n",
    "\n",
    "Regarding the `country` feature, taking into account the fact that we can already identify the country where the match takes place by looking at `home_team` or `away_team` depending on the value of `neutral` feature, `country` gets redundant. Therefore, we can drop it."
   ]
  },
  {
   "cell_type": "code",
   "execution_count": 88,
   "metadata": {
    "ExecuteTime": {
     "end_time": "2023-11-20T13:27:02.974740Z",
     "start_time": "2023-11-20T13:27:02.896228Z"
    },
    "collapsed": false
   },
   "outputs": [],
   "source": [
    "rera.drop(\"country\", axis=1, inplace=True)"
   ]
  },
  {
   "cell_type": "markdown",
   "metadata": {},
   "source": [
    "##### 4.2.4. Dropping `previous_points_home` and `previous_points_away` feature"
   ]
  },
  {
   "cell_type": "markdown",
   "metadata": {},
   "source": [
    "As shown in the correlation heatmap, `previous_points_home` and `previous_points_away` exhibit high correlations with `total_points_home` and `total_points_away`, respectively. Across multiple matches, the total number of points remains relatively constant, possibly accounting for this correlation. We hypothesize that the total points alone provide sufficient information, making the details from `previous_points` redundant, despite its minor fluctuations."
   ]
  },
  {
   "cell_type": "code",
   "execution_count": 89,
   "metadata": {
    "ExecuteTime": {
     "end_time": "2023-11-20T13:27:02.974789Z",
     "start_time": "2023-11-20T13:27:02.902383Z"
    }
   },
   "outputs": [],
   "source": [
    "rera.drop([\"previous_points_home\", \"previous_points_away\"], axis=1, inplace=True)"
   ]
  },
  {
   "cell_type": "markdown",
   "metadata": {
    "collapsed": false
   },
   "source": [
    "#### 4.3. Tuning features"
   ]
  },
  {
   "cell_type": "markdown",
   "metadata": {},
   "source": [
    "##### 4.3.1. Encoding String type objects"
   ]
  },
  {
   "cell_type": "markdown",
   "metadata": {},
   "source": [
    "To enhance the performance of our model, we have decided to encode the country & confederation names, as our model struggles with String-type data."
   ]
  },
  {
   "cell_type": "code",
   "execution_count": 90,
   "metadata": {},
   "outputs": [],
   "source": [
    "from sklearn.preprocessing import LabelEncoder\n",
    "\n",
    "columns_to_encode = ['home_team', 'away_team', 'confederation_home', 'confederation_away', 'tournament']\n",
    "\n",
    "\n",
    "label_encoder = LabelEncoder()\n",
    "\n",
    "for column in columns_to_encode:\n",
    "    rera[column + '_encoded'] = label_encoder.fit_transform(rera[column])\n",
    "\n",
    "rera.drop([\"home_team\", \"away_team\", \"confederation_home\", \"tournament\", \"confederation_away\"], axis=1, inplace=True)"
   ]
  },
  {
   "cell_type": "markdown",
   "metadata": {},
   "source": [
    "##### 4.3.2. UpSampling minority class"
   ]
  },
  {
   "cell_type": "markdown",
   "metadata": {},
   "source": [
    "As observed, there is a variation in the distribution of values in the 'winner' column. They are not equally represented, which could introduce bias to the model."
   ]
  },
  {
   "cell_type": "code",
   "execution_count": 91,
   "metadata": {},
   "outputs": [
    {
     "name": "stdout",
     "output_type": "stream",
     "text": [
      "Distribution of value : winner\n",
      "0    0.626321\n",
      "1    0.373679\n",
      "Name: proportion, dtype: float64\n"
     ]
    }
   ],
   "source": [
    "print('Distribution of value :',rera[\"winner\"].value_counts(normalize=True))"
   ]
  },
  {
   "cell_type": "code",
   "execution_count": 93,
   "metadata": {},
   "outputs": [
    {
     "name": "stdout",
     "output_type": "stream",
     "text": [
      "Distribution of value : winner\n",
      "0    0.5\n",
      "1    0.5\n",
      "Name: proportion, dtype: float64\n"
     ]
    }
   ],
   "source": [
    "from sklearn.utils import resample \n",
    "\n",
    "# La classe minoritaire (Home team a gagne)\n",
    "minority = rera[rera[\"winner\"] == 1]\n",
    "majority = rera[rera[\"winner\"] == 0]\n",
    "\n",
    "minority_upsampled = resample(minority, replace=True, n_samples=len(majority))\n",
    "rera = pd.concat([majority, minority_upsampled], axis=0)\n",
    "\n",
    "print('Distribution of value :',rera[\"winner\"].value_counts(normalize=True))"
   ]
  },
  {
   "cell_type": "markdown",
   "metadata": {
    "collapsed": false
   },
   "source": [
    "##### 4.3.1. Dimensionality Reduction: Principal Component Analysis"
   ]
  },
  {
   "cell_type": "code",
   "execution_count": null,
   "metadata": {
    "collapsed": false
   },
   "outputs": [],
   "source": []
  }
 ],
 "metadata": {
  "kernelspec": {
   "display_name": "Python 3",
   "language": "python",
   "name": "python3"
  },
  "language_info": {
   "codemirror_mode": {
    "name": "ipython",
    "version": 3
   },
   "file_extension": ".py",
   "mimetype": "text/x-python",
   "name": "python",
   "nbconvert_exporter": "python",
   "pygments_lexer": "ipython3",
   "version": "3.10.0"
  }
 },
 "nbformat": 4,
 "nbformat_minor": 2
}
